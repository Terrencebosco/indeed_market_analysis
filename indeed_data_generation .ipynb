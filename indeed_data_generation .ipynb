{
 "cells": [
  {
   "cell_type": "code",
   "execution_count": 149,
   "metadata": {},
   "outputs": [],
   "source": [
    "from bs4 import BeautifulSoup\n",
    "import pandas as pd\n",
    "import numpy as np\n",
    "import requests\n",
    "import urllib\n",
    "import datetime\n",
    "import time\n",
    "import csv"
   ]
  },
  {
   "cell_type": "code",
   "execution_count": 52,
   "metadata": {},
   "outputs": [],
   "source": [
    "url = 'https://www.indeed.com/jobs?q=Data+Analyst&l=texas'\n",
    "page = requests.get(url)\n",
    "soup = BeautifulSoup(page.text, 'html.parser')"
   ]
  },
  {
   "cell_type": "code",
   "execution_count": 150,
   "metadata": {},
   "outputs": [
    {
     "data": {
      "text/plain": [
       "'https://indeed.com/jobs?q=data analyst&l=texas'"
      ]
     },
     "execution_count": 150,
     "metadata": {},
     "output_type": "execute_result"
    }
   ],
   "source": [
    "def get_url(position, location):\n",
    "    template = 'https://indeed.com/jobs?q={}&l={}'\n",
    "    url = template.format(position, location)\n",
    "    return url\n",
    "\n",
    "url = get_url('data analyst','texas')\n",
    "url"
   ]
  },
  {
   "cell_type": "code",
   "execution_count": 74,
   "metadata": {},
   "outputs": [],
   "source": [
    "link = soup.find_all('div', class_='jobsearch-SerpJobCard')\n"
   ]
  },
  {
   "cell_type": "code",
   "execution_count": 75,
   "metadata": {},
   "outputs": [],
   "source": [
    "atag = card.h2.a"
   ]
  },
  {
   "cell_type": "code",
   "execution_count": 76,
   "metadata": {},
   "outputs": [],
   "source": [
    "atag_title = atag.get('title')"
   ]
  },
  {
   "cell_type": "code",
   "execution_count": 77,
   "metadata": {},
   "outputs": [],
   "source": [
    "atag_url = \"https://www.indeed.com\" + atag.get('href')"
   ]
  },
  {
   "cell_type": "code",
   "execution_count": 81,
   "metadata": {},
   "outputs": [
    {
     "data": {
      "text/plain": [
       "'Memorial Hermann Health System'"
      ]
     },
     "execution_count": 81,
     "metadata": {},
     "output_type": "execute_result"
    }
   ],
   "source": [
    "compay = card.find('span', 'company').text.strip()"
   ]
  },
  {
   "cell_type": "code",
   "execution_count": 83,
   "metadata": {},
   "outputs": [
    {
     "data": {
      "text/plain": [
       "'Katy, TX'"
      ]
     },
     "execution_count": 83,
     "metadata": {},
     "output_type": "execute_result"
    }
   ],
   "source": [
    "location = card.find('div', 'recJobLoc').get('data-rc-loc')"
   ]
  },
  {
   "cell_type": "code",
   "execution_count": 87,
   "metadata": {},
   "outputs": [],
   "source": [
    "summary = card.find('div', 'summary').text.strip()"
   ]
  },
  {
   "cell_type": "code",
   "execution_count": 90,
   "metadata": {},
   "outputs": [
    {
     "data": {
      "text/plain": [
       "'1 day ago'"
      ]
     },
     "execution_count": 90,
     "metadata": {},
     "output_type": "execute_result"
    }
   ],
   "source": [
    "date_posted = card.find('span', 'date').text"
   ]
  },
  {
   "cell_type": "code",
   "execution_count": 100,
   "metadata": {},
   "outputs": [],
   "source": [
    "today = datetime.date.today().strftime('%Y-%m-%d')"
   ]
  },
  {
   "cell_type": "code",
   "execution_count": 102,
   "metadata": {},
   "outputs": [],
   "source": [
    "try:\n",
    "    job_salary = card.find('span', 'salaryText').text.strip()\n",
    "except AttributeError:\n",
    "    job_salary = 'No salary posted'"
   ]
  },
  {
   "cell_type": "code",
   "execution_count": 107,
   "metadata": {},
   "outputs": [
    {
     "data": {
      "text/plain": [
       "('Clinical Data Analyst',\n",
       " 'Memorial Hermann Health System',\n",
       " 'Katy, TX',\n",
       " '1 day ago',\n",
       " '2020-12-17',\n",
       " 'Performs analysis and interpretation of data to demonstrate clinical and financial outcomes.\\nIncumbent uses this data to assist management in decision-making,…',\n",
       " 'No salary posted',\n",
       " 'https://www.indeed.com/pagead/clk?mo=r&ad=-6NYlbfkN0CjJJ4B0ONJpcyb2oQBKgRf-vW_yLOY4h6T6icEVh9gIaaHFPK0lKehwSc8Kq-Exc0RHOIe3TSwkeepm3ylgdmE6GZxKw8JETOhL1BkjO6YB-XqrJ6X-jZHVIS7z8c5nNyBz-woblApHeq13CzvM_IUUNWWnPEn7iej_yh6CwEmPgnIF8VR9fecPtXENMhAMxZy5f_aSS1hCRZ5YROtBRL-_-6vKxzLMzUKEY0iCzFd6HTylMi8dWTa_qbBAUXnVvR5g1o9fhRhXLYIKNiC1WsD2FE_tVnC0TvEmgbjPudahfdpC7Dk8TJg7Qwk0FS34-ubrV1ztvQgzRvPV376rioQFHzjxRFf7M9ElHoTDc5QDRD9HieqbFJ029FQZYYmpl-LZOE2pL6qXd1aeLtV73y9X6zao9L-sYD4xBm-ALrhfbFn-_wdZkDJIdd8KSlx_hw73HiLtyGSHmdQIIy_Soa01jH4E5D8efqFepmW8ASO3w==&p=0&fvj=0&vjs=3')"
      ]
     },
     "execution_count": 107,
     "metadata": {},
     "output_type": "execute_result"
    }
   ],
   "source": [
    "def get_records(card):\n",
    "    atag = card.h2.a\n",
    "    title = atag.get('title')\n",
    "    url = \"https://www.indeed.com\" + atag.get('href')\n",
    "    compay = card.find('span', 'company').text.strip()\n",
    "    location = card.find('div', 'recJobLoc').get('data-rc-loc')\n",
    "    summary = card.find('div', 'summary').text.strip()\n",
    "    date_posted = card.find('span', 'date').text\n",
    "    today = datetime.date.today().strftime('%Y-%m-%d')\n",
    "    try:\n",
    "        salary = card.find('span', 'salaryText').text.strip()\n",
    "    except AttributeError:\n",
    "        salary = 'No salary posted'\n",
    "\n",
    "    return(title, compay, location, date_posted, today, summary, salary, url)\n",
    "get_records(card)"
   ]
  },
  {
   "cell_type": "code",
   "execution_count": 110,
   "metadata": {},
   "outputs": [],
   "source": [
    "records = []\n",
    "for card in link:\n",
    "    record = get_records(card)\n",
    "    records.append(record)\n",
    "    \n",
    "records[:2]"
   ]
  },
  {
   "cell_type": "code",
   "execution_count": 125,
   "metadata": {},
   "outputs": [
    {
     "data": {
      "text/plain": [
       "1037"
      ]
     },
     "execution_count": 125,
     "metadata": {},
     "output_type": "execute_result"
    }
   ],
   "source": [
    "url = 'https://www.indeed.com/jobs?q=Data+Analyst&l=texas'\n",
    "page = requests.get(url)\n",
    "soup = BeautifulSoup(page.text, 'html.parser')\n",
    "\n",
    "records = []\n",
    "while True:\n",
    "    try:\n",
    "        url = 'https://indeed.com' + soup.find('a', {'aria-label': 'Next'}).get('href')\n",
    "    except:\n",
    "        break\n",
    "    time.sleep(1)\n",
    "    response = requests.get(url)\n",
    "    soup = BeautifulSoup(response.text, 'html.parser')\n",
    "    cards = soup.find_all('div', 'jobsearch-SerpJobCard')\n",
    "    \n",
    "    for card in cards:\n",
    "        record = get_records(card)\n",
    "        records.append(record)\n",
    "\n",
    "len(records)"
   ]
  },
  {
   "cell_type": "code",
   "execution_count": 128,
   "metadata": {},
   "outputs": [
    {
     "data": {
      "text/plain": [
       "('Data Analyst, MTSS (226 Days)',\n",
       " 'Dallas Independent School District',\n",
       " 'Dallas, TX',\n",
       " '14 days ago',\n",
       " '2020-12-17',\n",
       " 'Data Analyst, MTSS (226 Days) -(RTP20201113-003) Description Monitors and analyzes MTSS data to identify trends, address issues, and adjust implementation…',\n",
       " '$76,031 a year',\n",
       " 'https://www.indeed.com/rc/clk?jk=bf2d4d8371c1c3ae&fccid=8c864f6f851fb310&vjs=3')"
      ]
     },
     "execution_count": 128,
     "metadata": {},
     "output_type": "execute_result"
    }
   ],
   "source": [
    "records[0]"
   ]
  },
  {
   "cell_type": "code",
   "execution_count": 155,
   "metadata": {},
   "outputs": [],
   "source": [
    "def main(position, location):\n",
    "    \n",
    "    records = []\n",
    "    url = get_url(position, location)\n",
    "    \n",
    "\n",
    "    while True:\n",
    "\n",
    "        time.sleep(1)\n",
    "        response = requests.get(url)\n",
    "        soup = BeautifulSoup(response.text, 'html.parser')\n",
    "        cards = soup.find_all('div', 'jobsearch-SerpJobCard')\n",
    "\n",
    "        for card in cards:\n",
    "            record = get_records(card)\n",
    "            records.append(record)\n",
    "\n",
    "        try:\n",
    "            url = 'https://indeed.com' + soup.find('a', {'aria-label': 'Next'}).get('href')\n",
    "        except:\n",
    "            break\n",
    "            \n",
    "    csv_name = 'job_listings_{}'.format(time.strftime(\"%Y_%m_%d\"))\n",
    "    \n",
    "    with open(csv_name, 'w', newline='', encoding='utf-8') as f:\n",
    "        writer = csv.writer(f)\n",
    "        writer.writerow(['title', 'compay', 'location', 'date_posted', 'today', 'summary', 'salary', 'url'])\n",
    "        writer.writerows(records)\n",
    "        "
   ]
  },
  {
   "cell_type": "code",
   "execution_count": 147,
   "metadata": {},
   "outputs": [],
   "source": [
    "csv_name = 'job_listings_{}'.format(time.strftime(\"%Y_%m_%d\"))\n"
   ]
  },
  {
   "cell_type": "code",
   "execution_count": 156,
   "metadata": {},
   "outputs": [],
   "source": [
    "main('data analyst', 'texas')"
   ]
  },
  {
   "cell_type": "code",
   "execution_count": 153,
   "metadata": {},
   "outputs": [],
   "source": [
    "    with open(csv_name, 'w', newline='', encoding='utf-8') as f:\n",
    "        writer = csv.writer(f)\n",
    "        writer.writerow(['test'])\n",
    "        writer.writerows('test')"
   ]
  },
  {
   "cell_type": "code",
   "execution_count": null,
   "metadata": {},
   "outputs": [],
   "source": []
  }
 ],
 "metadata": {
  "kernelspec": {
   "display_name": "unit4sprint2",
   "language": "python",
   "name": "unit4sprint2"
  },
  "language_info": {
   "codemirror_mode": {
    "name": "ipython",
    "version": 3
   },
   "file_extension": ".py",
   "mimetype": "text/x-python",
   "name": "python",
   "nbconvert_exporter": "python",
   "pygments_lexer": "ipython3",
   "version": "3.7.0"
  }
 },
 "nbformat": 4,
 "nbformat_minor": 4
}
